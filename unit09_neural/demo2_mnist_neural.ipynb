{
 "cells": [
  {
   "cell_type": "markdown",
   "metadata": {},
   "source": [
    "# MNIST Classification via a Neural Network\n",
    "\n",
    "In the the [MNIST SVM example](../svm/mnist_svm.ipynb), we introduced the classic MNIST digit classification problem and trained a simple SVM classifier for the model.  In this demo, we will try a simple neural network.  The network we will create will not perform quite as well -- we will obtain an accuracy of only around 97%, while the SVM classifier obtains an accuracy of over 98%.  However, once we understand these simple neural networks, we will be able to build more sophisticated networks that can obtain much better classification rate.  Also, in doing this demo, you will learn several important features of the `keras` package in addition to the concepts shown in the [simple neural network example](./synthetic.ipynb):\n",
    "\n",
    "* How to construct multi-class classifiers using categorical cross entropy.\n",
    "* How to optimize using mini-batches.\n",
    "* How to save and load the model after training.  "
   ]
  },
  {
   "cell_type": "markdown",
   "metadata": {},
   "source": [
    "## Loading the Keras package and the MNIST data\n",
    "\n",
    "We first load the `Tensorflow` package as in the [simple neural network example](./synthetic.ipynb)."
   ]
  },
  {
   "cell_type": "code",
   "execution_count": 1,
   "metadata": {},
   "outputs": [],
   "source": [
    "import tensorflow as tf"
   ]
  },
  {
   "cell_type": "markdown",
   "metadata": {},
   "source": [
    "We also load some other common packages."
   ]
  },
  {
   "cell_type": "code",
   "execution_count": 2,
   "metadata": {},
   "outputs": [],
   "source": [
    "import numpy as np\n",
    "import matplotlib.pyplot as plt\n",
    "%matplotlib inline"
   ]
  },
  {
   "cell_type": "markdown",
   "metadata": {},
   "source": [
    "Next, we get the MNIST data as in the [MNIST SVM example](../svm/mnist_svm.ipynb).  We reshape and rescale the input `X` from values from -1 to 1 as this works better for the neural network."
   ]
  },
  {
   "cell_type": "code",
   "execution_count": 22,
   "metadata": {},
   "outputs": [],
   "source": [
    "(Xtr,ytr),(Xts,yts) = tf.keras.datasets.mnist.load_data()\n",
    "\n",
    "Xtr = 2*(Xtr/255 - 0.5)\n",
    "ntr, nrow, ncol = Xtr.shape\n",
    "Xtr = Xtr.reshape((ntr,nrow*ncol))\n",
    "\n",
    "Xts = 2*(Xts/255 - 0.5)\n",
    "nts, nrow, ncol = Xts.shape\n",
    "Xts = Xts.reshape((nts,nrow*ncol))"
   ]
  },
  {
   "cell_type": "markdown",
   "metadata": {},
   "source": [
    "We will also use the `plt_digit` function from the [MNIST SVM example](../svm/mnist_svm.ipynb) to display digits."
   ]
  },
  {
   "cell_type": "code",
   "execution_count": 16,
   "metadata": {},
   "outputs": [
    {
     "data": {
      "image/png": "[encoded data removed]",
      "text/plain": [
       "<Figure size 432x288 with 4 Axes>"
      ]
     },
     "metadata": {},
     "output_type": "display_data"
    }
   ],
   "source": [
    "def plt_digit(x):\n",
    "    nrow = 28\n",
    "    ncol = 28\n",
    "    xsq = x.reshape((nrow,ncol))\n",
    "    plt.imshow(xsq,  cmap='Greys_r')\n",
    "    plt.xticks([])\n",
    "    plt.yticks([])\n",
    "    \n",
    "# Select random digits\n",
    "nplt = 4\n",
    "nsamp = Xtr.shape[0]\n",
    "Iperm = np.random.permutation(nsamp)\n",
    "\n",
    "# Plot the images using the subplot command\n",
    "for i in range(nplt):\n",
    "    ind = Iperm[i]\n",
    "    plt.subplot(1,nplt,i+1)\n",
    "    plt_digit(Xtr[ind,:])"
   ]
  },
  {
   "cell_type": "markdown",
   "metadata": {},
   "source": [
    "## Creating a Simple Neural Network."
   ]
  },
  {
   "cell_type": "markdown",
   "metadata": {},
   "source": [
    "To create the neural network, we first import the appropriate sub-packages."
   ]
  },
  {
   "cell_type": "code",
   "execution_count": 17,
   "metadata": {},
   "outputs": [],
   "source": [
    "from tensorflow.keras.models import Model, Sequential\n",
    "from tensorflow.keras.layers import Dense, Activation"
   ]
  },
  {
   "cell_type": "markdown",
   "metadata": {},
   "source": [
    "Next, we clear the session.  As in the [simple neural network example](./synthetic.ipynb), this step is not necessary, but it is good practice as it clears any model layers that you have built before.  "
   ]
  },
  {
   "cell_type": "code",
   "execution_count": 18,
   "metadata": {},
   "outputs": [],
   "source": [
    "import tensorflow.keras.backend as K\n",
    "K.clear_session()"
   ]
  },
  {
   "cell_type": "markdown",
   "metadata": {},
   "source": [
    "Now we create a very simple network.  The features are:\n",
    "*  We have one hidden layer with `nh=100` units.  \n",
    "*  One output layer with `nout=10` units, one for each of the 10 possible classes\n",
    "*  The output activation is `softmax`, which is used for multi-class targets"
   ]
  },
  {
   "cell_type": "code",
   "execution_count": 23,
   "metadata": {},
   "outputs": [],
   "source": [
    "nin = Xtr.shape[1]  # dimension of input data\n",
    "nh = 100     # number of hidden units\n",
    "nout = int(np.max(ytr)+1)    # number of outputs = 10 since there are 10 classes\n",
    "model = Sequential()\n",
    "model.add(Dense(units=nh, input_shape=(nin,), activation='sigmoid', name='hidden'))\n",
    "model.add(Dense(units=nout, activation='softmax', name='output'))"
   ]
  },
  {
   "cell_type": "markdown",
   "metadata": {},
   "source": [
    "We print the model summary. "
   ]
  },
  {
   "cell_type": "code",
   "execution_count": 24,
   "metadata": {},
   "outputs": [
    {
     "name": "stdout",
     "output_type": "stream",
     "text": [
      "_________________________________________________________________\n",
      "Layer (type)                 Output Shape              Param #   \n",
      "=================================================================\n",
      "hidden (Dense)               (None, 100)               78500     \n",
      "_________________________________________________________________\n",
      "output (Dense)               (None, 10)                1010      \n",
      "=================================================================\n",
      "Total params: 79,510\n",
      "Trainable params: 79,510\n",
      "Non-trainable params: 0\n",
      "_________________________________________________________________\n"
     ]
    }
   ],
   "source": [
    "model.summary()"
   ]
  },
  {
   "cell_type": "markdown",
   "metadata": {},
   "source": [
    "## Training the Network\n",
    "\n",
    "As before, to train the network, we have to select an optimizer and a loss function.  Since this is a multi-class classification problem, we select the `sparse_categorial_crossentropy` loss.  We use the `adam` optimizer as before.  You may want to play with the learning rate `lr`.   We also set the `metrics` that we wish to track during the optimization.  In this case, we select `accuracy` on the training set."
   ]
  },
  {
   "cell_type": "code",
   "execution_count": 27,
   "metadata": {},
   "outputs": [],
   "source": [
    "from tensorflow.keras import optimizers\n",
    "\n",
    "opt = optimizers.Adam(lr=0.001) # beta_1=0.9, beta_2=0.999, epsilon=1e-08, decay=0.0)\n",
    "model.compile(optimizer=opt,\n",
    "              loss='sparse_categorical_crossentropy',\n",
    "              metrics=['accuracy'])"
   ]
  },
  {
   "cell_type": "markdown",
   "metadata": {},
   "source": [
    "Keras provides a simple method `fit` to run the optimization.  You simply specify the number of epochs and the batch size, both discussed in class.  In addition, we specify the `validation_data` so that it can print the accuracy on the test data set as it performs the optimization."
   ]
  },
  {
   "cell_type": "code",
   "execution_count": 28,
   "metadata": {},
   "outputs": [
    {
     "name": "stdout",
     "output_type": "stream",
     "text": [
      "Train on 60000 samples, validate on 10000 samples\n",
      "Epoch 1/30\n",
      "60000/60000 [==============================] - 1s 24us/step - loss: 0.5074 - acc: 0.8702 - val_loss: 0.2788 - val_acc: 0.9233\n",
      "Epoch 2/30\n",
      "60000/60000 [==============================] - 1s 21us/step - loss: 0.2507 - acc: 0.9296 - val_loss: 0.2206 - val_acc: 0.9368\n",
      "Epoch 3/30\n",
      "60000/60000 [==============================] - 1s 21us/step - loss: 0.1965 - acc: 0.9439 - val_loss: 0.1789 - val_acc: 0.9486\n",
      "Epoch 4/30\n",
      "60000/60000 [==============================] - 1s 22us/step - loss: 0.1641 - acc: 0.9530 - val_loss: 0.1578 - val_acc: 0.9550\n",
      "Epoch 5/30\n",
      "60000/60000 [==============================] - 1s 22us/step - loss: 0.1393 - acc: 0.9606 - val_loss: 0.1344 - val_acc: 0.9612\n",
      "Epoch 6/30\n",
      "60000/60000 [==============================] - 1s 22us/step - loss: 0.1221 - acc: 0.9655 - val_loss: 0.1284 - val_acc: 0.9606\n",
      "Epoch 7/30\n",
      "60000/60000 [==============================] - ETA: 0s - loss: 0.1079 - acc: 0.969 - 1s 24us/step - loss: 0.1077 - acc: 0.9696 - val_loss: 0.1199 - val_acc: 0.9662\n",
      "Epoch 8/30\n",
      "60000/60000 [==============================] - 1s 24us/step - loss: 0.0966 - acc: 0.9731 - val_loss: 0.1080 - val_acc: 0.9674\n",
      "Epoch 9/30\n",
      "60000/60000 [==============================] - 2s 25us/step - loss: 0.0868 - acc: 0.9759 - val_loss: 0.1073 - val_acc: 0.9671\n",
      "Epoch 10/30\n",
      "60000/60000 [==============================] - 2s 25us/step - loss: 0.0795 - acc: 0.9779 - val_loss: 0.1022 - val_acc: 0.9691\n",
      "Epoch 11/30\n",
      "60000/60000 [==============================] - 1s 25us/step - loss: 0.0723 - acc: 0.9803 - val_loss: 0.0970 - val_acc: 0.9694\n",
      "Epoch 12/30\n",
      "60000/60000 [==============================] - 2s 25us/step - loss: 0.0662 - acc: 0.9825 - val_loss: 0.0932 - val_acc: 0.9708\n",
      "Epoch 13/30\n",
      "60000/60000 [==============================] - 1s 25us/step - loss: 0.0612 - acc: 0.9831 - val_loss: 0.0904 - val_acc: 0.9728\n",
      "Epoch 14/30\n",
      "60000/60000 [==============================] - 2s 27us/step - loss: 0.0568 - acc: 0.9848 - val_loss: 0.0878 - val_acc: 0.9732\n",
      "Epoch 15/30\n",
      "60000/60000 [==============================] - 2s 25us/step - loss: 0.0509 - acc: 0.9864 - val_loss: 0.0832 - val_acc: 0.9737\n",
      "Epoch 16/30\n",
      "60000/60000 [==============================] - 1s 25us/step - loss: 0.0480 - acc: 0.9867 - val_loss: 0.0838 - val_acc: 0.9747\n",
      "Epoch 17/30\n",
      "60000/60000 [==============================] - 1s 24us/step - loss: 0.0443 - acc: 0.9882 - val_loss: 0.0849 - val_acc: 0.9723\n",
      "Epoch 18/30\n",
      "60000/60000 [==============================] - 2s 25us/step - loss: 0.0410 - acc: 0.9894 - val_loss: 0.0810 - val_acc: 0.9747\n",
      "Epoch 19/30\n",
      "60000/60000 [==============================] - 1s 24us/step - loss: 0.0389 - acc: 0.9899 - val_loss: 0.0773 - val_acc: 0.9750\n",
      "Epoch 20/30\n",
      "60000/60000 [==============================] - 1s 25us/step - loss: 0.0351 - acc: 0.9912 - val_loss: 0.0824 - val_acc: 0.9746\n",
      "Epoch 21/30\n",
      "60000/60000 [==============================] - 1s 24us/step - loss: 0.0327 - acc: 0.9923 - val_loss: 0.0787 - val_acc: 0.9758\n",
      "Epoch 22/30\n",
      "60000/60000 [==============================] - 1s 23us/step - loss: 0.0306 - acc: 0.9926 - val_loss: 0.0781 - val_acc: 0.9772\n",
      "Epoch 23/30\n",
      "60000/60000 [==============================] - 1s 23us/step - loss: 0.0288 - acc: 0.9932 - val_loss: 0.0773 - val_acc: 0.9754\n",
      "Epoch 24/30\n",
      "60000/60000 [==============================] - 1s 23us/step - loss: 0.0265 - acc: 0.9940 - val_loss: 0.0859 - val_acc: 0.9730\n",
      "Epoch 25/30\n",
      "60000/60000 [==============================] - 2s 25us/step - loss: 0.0250 - acc: 0.9942 - val_loss: 0.0816 - val_acc: 0.9744\n",
      "Epoch 26/30\n",
      "60000/60000 [==============================] - 2s 26us/step - loss: 0.0226 - acc: 0.9953 - val_loss: 0.0787 - val_acc: 0.9743\n",
      "Epoch 27/30\n",
      "60000/60000 [==============================] - 1s 23us/step - loss: 0.0207 - acc: 0.9958 - val_loss: 0.0869 - val_acc: 0.9741\n",
      "Epoch 28/30\n",
      "60000/60000 [==============================] - 1s 23us/step - loss: 0.0214 - acc: 0.9949 - val_loss: 0.0757 - val_acc: 0.9765\n",
      "Epoch 29/30\n",
      "60000/60000 [==============================] - 1s 22us/step - loss: 0.0187 - acc: 0.9964 - val_loss: 0.0770 - val_acc: 0.9756\n",
      "Epoch 30/30\n",
      "60000/60000 [==============================] - 1s 23us/step - loss: 0.0178 - acc: 0.9963 - val_loss: 0.0794 - val_acc: 0.9766\n"
     ]
    }
   ],
   "source": [
    "hist = model.fit(Xtr, ytr, epochs=30, batch_size=100, validation_data=(Xts,yts))"
   ]
  },
  {
   "cell_type": "markdown",
   "metadata": {},
   "source": [
    "After running the 10 epochs, you should obtain a test accuracy of around 96.5%.  If we run it for another a few epochs, we can get slightly higher results.  We can just run the `model.fit` command again, and it will start where it left off. You should get a little more than 97% accuracy. "
   ]
  },
  {
   "cell_type": "markdown",
   "metadata": {},
   "source": [
    "Plot the training accuracy and validation accuracy as a function of epoches.\n",
    "We see that the training accuracy keeps growing to 1, while the validation accuracy saturates to a value around 0.97"
   ]
  },
  {
   "cell_type": "code",
   "execution_count": 29,
   "metadata": {},
   "outputs": [
    {
     "data": {
      "text/plain": [
       "<matplotlib.legend.Legend at 0x2d884247908>"
      ]
     },
     "execution_count": 29,
     "metadata": {},
     "output_type": "execute_result"
    },
    {
     "data": {
      "image/png": "[encoded data removed]",
      "text/plain": [
       "<Figure size 432x288 with 1 Axes>"
      ]
     },
     "metadata": {
      "needs_background": "light"
     },
     "output_type": "display_data"
    }
   ],
   "source": [
    "tr_accuracy = hist.history['acc']\n",
    "val_accuracy = hist.history['val_acc']\n",
    "\n",
    "plt.plot(tr_accuracy)\n",
    "plt.plot(val_accuracy)\n",
    "plt.grid()\n",
    "plt.xlabel('epochs')\n",
    "plt.ylabel('accuarcy')\n",
    "plt.legend(['training accuracy', 'validation accuracy'])"
   ]
  },
  {
   "cell_type": "markdown",
   "metadata": {},
   "source": [
    "## Saving and Loading the model\n",
    "\n",
    "Since the training takes a long time, it is useful to save the results.  See the [keras page](https://keras.io/getting-started/faq/#how-can-i-save-a-keras-model) for many more useful saving and loading features."
   ]
  },
  {
   "cell_type": "code",
   "execution_count": 30,
   "metadata": {},
   "outputs": [],
   "source": [
    "model.save(\"mnist_mod.h5\")"
   ]
  },
  {
   "cell_type": "markdown",
   "metadata": {},
   "source": [
    "We can now reload the model with the `load_model` command."
   ]
  },
  {
   "cell_type": "code",
   "execution_count": 31,
   "metadata": {},
   "outputs": [
    {
     "name": "stdout",
     "output_type": "stream",
     "text": [
      "_________________________________________________________________\n",
      "Layer (type)                 Output Shape              Param #   \n",
      "=================================================================\n",
      "hidden (Dense)               (None, 100)               78500     \n",
      "_________________________________________________________________\n",
      "output (Dense)               (None, 10)                1010      \n",
      "=================================================================\n",
      "Total params: 79,510\n",
      "Trainable params: 79,510\n",
      "Non-trainable params: 0\n",
      "_________________________________________________________________\n"
     ]
    }
   ],
   "source": [
    "from tensorflow.keras.models import load_model\n",
    "\n",
    "model = load_model(\"mnist_mod.h5\")\n",
    "model.summary()"
   ]
  },
  {
   "cell_type": "markdown",
   "metadata": {},
   "source": [
    "We can test the performance on the test data set."
   ]
  },
  {
   "cell_type": "code",
   "execution_count": 32,
   "metadata": {},
   "outputs": [
    {
     "name": "stdout",
     "output_type": "stream",
     "text": [
      "10000/10000 [==============================] - 0s 26us/step\n",
      "accuracy = 0.976600\n"
     ]
    }
   ],
   "source": [
    "score, acc = model.evaluate(Xts, yts, verbose=1)\n",
    "print(\"accuracy = %f\" % acc)"
   ]
  },
  {
   "cell_type": "code",
   "execution_count": null,
   "metadata": {
    "collapsed": true
   },
   "outputs": [],
   "source": []
  }
 ],
 "metadata": {
  "anaconda-cloud": {},
  "kernelspec": {
   "display_name": "Python 3",
   "language": "python",
   "name": "python3"
  },
  "language_info": {
   "codemirror_mode": {
    "name": "ipython",
    "version": 3
   },
   "file_extension": ".py",
   "mimetype": "text/x-python",
   "name": "python",
   "nbconvert_exporter": "python",
   "pygments_lexer": "ipython3",
   "version": "3.6.7"
  }
 },
 "nbformat": 4,
 "nbformat_minor": 1
}
