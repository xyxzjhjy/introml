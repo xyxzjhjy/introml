{
  "nbformat": 4,
  "nbformat_minor": 0,
  "metadata": {
    "colab": {
      "name": "model_sel_inclass.ipynb",
      "version": "0.3.2",
      "provenance": []
    },
    "kernelspec": {
      "display_name": "Python 3",
      "language": "python",
      "name": "python3"
    }
  },
  "cells": [
    {
      "metadata": {
        "id": "okgQCCkHoywI",
        "colab_type": "text"
      },
      "cell_type": "markdown",
      "source": [
        "# Model Selection In-Class Exercise\n",
        "\n",
        "In this example, you will a linear model to data and select the model order by model order selection.  First load the standard packages."
      ]
    },
    {
      "metadata": {
        "id": "PNpSxz4ZoywK",
        "colab_type": "code",
        "colab": {}
      },
      "cell_type": "code",
      "source": [
        "import numpy as np\n",
        "import matplotlib.pyplot as plt\n",
        "import pickle\n",
        "from sklearn.linear_model import LinearRegression\n",
        "from sklearn.model_selection import train_test_split"
      ],
      "execution_count": 0,
      "outputs": []
    },
    {
      "metadata": {
        "id": "qV_kpz8koywO",
        "colab_type": "text"
      },
      "cell_type": "markdown",
      "source": [
        "## Load the Data\n",
        "\n",
        "The data in this exercise is completely synthetic.  You can load it with the following commmand."
      ]
    },
    {
      "metadata": {
        "id": "jcsWD_KQoywP",
        "colab_type": "code",
        "colab": {},
        "outputId": "02b6ac6f-523e-434c-e249-a23faf7784b0"
      },
      "cell_type": "code",
      "source": [
        "fn_src = 'https://raw.githubusercontent.com/sdrangan/introml/master/unit04_model_sel/synth_data.p'\n",
        "fn_dst = 'synth_data.p'\n",
        "\n",
        "import os\n",
        "from six.moves import urllib\n",
        "\n",
        "if os.path.isfile(fn_dst):\n",
        "    print('File %s is already downloaded' % fn_dst)\n",
        "else:        \n",
        "    urllib.request.urlretrieve(fn_src, fn_dst)\n",
        "    print('File %s downloaded' % fn_dst)\n",
        "\n",
        "with open(fn_dst,'rb') as fp:\n",
        "    x,y = pickle.load(fp)"
      ],
      "execution_count": 0,
      "outputs": [
        {
          "output_type": "stream",
          "text": [
            "File synth_data.p is already downloaded\n"
          ],
          "name": "stdout"
        }
      ]
    },
    {
      "metadata": {
        "id": "A1pl4tZDoywU",
        "colab_type": "text"
      },
      "cell_type": "markdown",
      "source": [
        "Plot the data `y` vs. `x` using a scatter plot. "
      ]
    },
    {
      "metadata": {
        "id": "JXTCfEdVoywV",
        "colab_type": "code",
        "colab": {}
      },
      "cell_type": "code",
      "source": [
        "# TODO"
      ],
      "execution_count": 0,
      "outputs": []
    },
    {
      "metadata": {
        "id": "qMdo0iqroywY",
        "colab_type": "text"
      },
      "cell_type": "markdown",
      "source": [
        "## Fit the Data\n",
        "\n",
        "We will now try to fit the data.  First, split the data into training and test.  You can use the `train_test_split()` method in the `sklearn` package."
      ]
    },
    {
      "metadata": {
        "id": "5_vV75MzoywY",
        "colab_type": "code",
        "colab": {}
      },
      "cell_type": "code",
      "source": [
        "# TODO\n",
        "# xtr, xts, ytr, yts = train_test_split(...)"
      ],
      "execution_count": 0,
      "outputs": []
    },
    {
      "metadata": {
        "id": "Pi2lYVmboywb",
        "colab_type": "text"
      },
      "cell_type": "markdown",
      "source": [
        "Now try to fit a linear model to the data.  You can pick any linear model with a variable number `d` of basis functions.  For example, you can use the polynomials up to degree `d-1`.  \n",
        "\n",
        "For each model order `d`:\n",
        "* Fit the model on the training data\n",
        "* Test the model on the test data\n",
        "\n",
        "Plot the test error vs. `d`.  Select the model order `dopt` with the lowest test error."
      ]
    },
    {
      "metadata": {
        "id": "6hhCAy6Eo4Gf",
        "colab_type": "code",
        "colab": {}
      },
      "cell_type": "code",
      "source": [
        "# TODO"
      ],
      "execution_count": 0,
      "outputs": []
    },
    {
      "metadata": {
        "id": "IiAiaNoco6QH",
        "colab_type": "text"
      },
      "cell_type": "markdown",
      "source": [
        "Select the optimal model order `dopt`.  Re-train the model for that model order.  On one plot:\n",
        "* Plot the predicted value `yhat` vs. `x` for your model for `x in [0,35]`\n",
        "* Plot a scatter plot of the test data `xts` vs. `yts`\n",
        "\n",
        "Does your model fit the test data well?\n",
        "Does it extrapolate reasonably in the range `x >= 30`?"
      ]
    },
    {
      "metadata": {
        "id": "GNtzaacQpEHA",
        "colab_type": "code",
        "colab": {}
      },
      "cell_type": "code",
      "source": [
        "# TODO"
      ],
      "execution_count": 0,
      "outputs": []
    },
    {
      "metadata": {
        "id": "w4YprWBPpe_c",
        "colab_type": "code",
        "colab": {}
      },
      "cell_type": "code",
      "source": [
        ""
      ],
      "execution_count": 0,
      "outputs": []
    }
  ]
}